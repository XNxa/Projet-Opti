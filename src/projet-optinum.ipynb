{
 "cells": [
  {
   "cell_type": "markdown",
   "metadata": {},
   "source": [
    "<center>\n",
    "<h1> TP-Projet d'optimisation numérique </h1>\n",
    "<h1> Année 2020-2021 - 2e année département Sciences du Numérique </h1>\n",
    "<h1> Noms:  </h1>\n",
    "<h1> Prénoms:  </h1>    \n",
    "</center>"
   ]
  },
  {
   "cell_type": "markdown",
   "metadata": {},
   "source": [
    "# Algorithme de Newton\n",
    "## Implémentation \n",
    " \n",
    "1. Coder l’algorithme de Newton local tel que décrit dans la section *Algorithme de Newton* (fichier `Algorithme_De_Newton.jl`)\n",
    "\n",
    "2. Tester l’algorithme sur les fonctions $f_{1}$ , $f_{2}$ avec les points initiaux $x_{011}$ , $x_{012}$ (pour $f_{1}$ ) et $x_{021}$ , $x_{022}$ , $x_{023}$ (pour $f_{2}$ ) donnés en Annexe A."
   ]
  },
  {
   "cell_type": "code",
   "execution_count": 2,
   "metadata": {},
   "outputs": [
    {
     "name": "stdout",
     "output_type": "stream",
     "text": [
      "\u001b[32m\u001b[1m      Status\u001b[22m\u001b[39m `~/Project.toml` (empty project)\n"
     ]
    }
   ],
   "source": [
    "using Pkg\n",
    "Pkg.status()"
   ]
  },
  {
   "cell_type": "code",
   "execution_count": 7,
   "metadata": {},
   "outputs": [
    {
     "data": {
      "text/latex": [
       "\\section{Objet}\n",
       "Cette fonction calcule une solution approchée du problème\n",
       "\n",
       "$$\\min_{||s||< \\delta_{k}} q_k(s) = s^{t}g + (1/2)s^{t}Hs$$\n",
       "par le calcul du pas de Cauchy\n",
       "\n",
       "\\section{Syntaxe}\n",
       "\\begin{verbatim}\n",
       "s1, e1 = Pas_De_Cauchy(gradient,Hessienne,delta)\n",
       "\\end{verbatim}\n",
       "\\section{Entrées}\n",
       "\\begin{itemize}\n",
       "\\item gradfk : (Array\\{Float,1\\}) le gradient de la fonction f appliqué au point $x_k$\n",
       "\n",
       "\n",
       "\\item hessfk : (Array\\{Float,2\\}) la Hessienne de la fonction f appliqué au point $x_k$\n",
       "\n",
       "\n",
       "\\item delta  : (Float) le rayon de la région de confiance\n",
       "\n",
       "\\end{itemize}\n",
       "\\section{Sorties}\n",
       "\\begin{itemize}\n",
       "\\item s : (Array\\{Float,1\\}) une approximation de la  solution du sous-problème\n",
       "\n",
       "\n",
       "\\item e : (Integer) indice indiquant l'état de sortie:      si g != 0          si on ne sature pas la boule            e <- 1          sinon            e <- -1      sinon          e <- 0\n",
       "\n",
       "\\end{itemize}\n",
       "\\section{Exemple d'appel}\n",
       "\\begin{verbatim}\n",
       "g1 = [0; 0]\n",
       "H1 = [7 0 ; 0 2]\n",
       "delta1 = 1\n",
       "s1, e1 = Pas_De_Cauchy(g1,H1,delta1)\n",
       "\\end{verbatim}\n"
      ],
      "text/markdown": [
       "# Objet\n",
       "\n",
       "Cette fonction calcule une solution approchée du problème\n",
       "\n",
       "$$\n",
       "\\min_{||s||< \\delta_{k}} q_k(s) = s^{t}g + (1/2)s^{t}Hs\n",
       "$$\n",
       "\n",
       "par le calcul du pas de Cauchy\n",
       "\n",
       "# Syntaxe\n",
       "\n",
       "```julia\n",
       "s1, e1 = Pas_De_Cauchy(gradient,Hessienne,delta)\n",
       "```\n",
       "\n",
       "# Entrées\n",
       "\n",
       "  * gradfk : (Array{Float,1}) le gradient de la fonction f appliqué au point $x_k$\n",
       "  * hessfk : (Array{Float,2}) la Hessienne de la fonction f appliqué au point $x_k$\n",
       "  * delta  : (Float) le rayon de la région de confiance\n",
       "\n",
       "# Sorties\n",
       "\n",
       "  * s : (Array{Float,1}) une approximation de la  solution du sous-problème\n",
       "  * e : (Integer) indice indiquant l'état de sortie:      si g != 0          si on ne sature pas la boule            e <- 1          sinon            e <- -1      sinon          e <- 0\n",
       "\n",
       "# Exemple d'appel\n",
       "\n",
       "```julia\n",
       "g1 = [0; 0]\n",
       "H1 = [7 0 ; 0 2]\n",
       "delta1 = 1\n",
       "s1, e1 = Pas_De_Cauchy(g1,H1,delta1)\n",
       "```\n"
      ],
      "text/plain": [
       "\u001b[1m  Objet\u001b[22m\n",
       "\u001b[1m  ≡≡≡≡≡≡≡\u001b[22m\n",
       "\n",
       "  Cette fonction calcule une solution approchée du problème\n",
       "\n",
       "\u001b[35m  \\min_{||s||< \\delta_{k}} q_k(s) = s^{t}g + (1/2)s^{t}Hs\u001b[39m\n",
       "\n",
       "  par le calcul du pas de Cauchy\n",
       "\n",
       "\u001b[1m  Syntaxe\u001b[22m\n",
       "\u001b[1m  ≡≡≡≡≡≡≡≡≡\u001b[22m\n",
       "\n",
       "\u001b[36m  s1, e1 = Pas_De_Cauchy(gradient,Hessienne,delta)\u001b[39m\n",
       "\n",
       "\u001b[1m  Entrées\u001b[22m\n",
       "\u001b[1m  ≡≡≡≡≡≡≡≡≡\u001b[22m\n",
       "\n",
       "    •  gradfk : (Array{Float,1}) le gradient de la fonction f appliqué au\n",
       "       point \u001b[35mx_k\u001b[39m\n",
       "\n",
       "    •  hessfk : (Array{Float,2}) la Hessienne de la fonction f appliqué\n",
       "       au point \u001b[35mx_k\u001b[39m\n",
       "\n",
       "    •  delta : (Float) le rayon de la région de confiance\n",
       "\n",
       "\u001b[1m  Sorties\u001b[22m\n",
       "\u001b[1m  ≡≡≡≡≡≡≡≡≡\u001b[22m\n",
       "\n",
       "    •  s : (Array{Float,1}) une approximation de la solution du\n",
       "       sous-problème\n",
       "\n",
       "    •  e : (Integer) indice indiquant l'état de sortie: si g != 0 si on\n",
       "       ne sature pas la boule e <- 1 sinon e <- -1 sinon e <- 0\n",
       "\n",
       "\u001b[1m  Exemple d'appel\u001b[22m\n",
       "\u001b[1m  ≡≡≡≡≡≡≡≡≡≡≡≡≡≡≡≡≡\u001b[22m\n",
       "\n",
       "\u001b[36m  g1 = [0; 0]\u001b[39m\n",
       "\u001b[36m  H1 = [7 0 ; 0 2]\u001b[39m\n",
       "\u001b[36m  delta1 = 1\u001b[39m\n",
       "\u001b[36m  s1, e1 = Pas_De_Cauchy(g1,H1,delta1)\u001b[39m"
      ]
     },
     "execution_count": 7,
     "metadata": {},
     "output_type": "execute_result"
    }
   ],
   "source": [
    "#using Pkg; Pkg.add(\"LinearAlgebra\"); Pkg.add(\"Markdown\"); Pkg.add(\"Documenter\")\n",
    "# using Documenter\n",
    "using LinearAlgebra\n",
    "using Documenter\n",
    "using Markdown  \n",
    "include(\"Pas_De_Cauchy.jl\")\n",
    "@doc Pas_De_Cauchy"
   ]
  },
  {
   "cell_type": "code",
   "execution_count": 6,
   "metadata": {},
   "outputs": [
    {
     "name": "stdout",
     "output_type": "stream",
     "text": [
      "-------------------------------------------------------------------------\n",
      "\u001b[34m\u001b[1mRésultats de : Newton appliqué à f0 au point initial -1.5707963267948966:\u001b[22m\u001b[39m\n",
      "  * xsol = -1.5707963267948966\n",
      "  * f(xsol) = -1.0\n",
      "  * nb_iters = 0\n",
      "  * flag = 0\n",
      "  * sol_exacte : -1.5707963267948966\n",
      "-------------------------------------------------------------------------\n",
      "\u001b[34m\u001b[1mRésultats de : Newton appliqué à f0 au point initial -1.0707963267948966:\u001b[22m\u001b[39m\n",
      "  * xsol = -1.0707963267948966\n",
      "  * f(xsol) = -0.8775825618903726\n",
      "  * nb_iters = 0\n",
      "  * flag = 0\n",
      "  * sol_exacte : -1.5707963267948966\n",
      "-------------------------------------------------------------------------\n",
      "\u001b[34m\u001b[1mRésultats de : Newton appliqué à f0 au point initial 1.5707963267948966:\u001b[22m\u001b[39m\n",
      "  * xsol = 1.5707963267948966\n",
      "  * f(xsol) = 1.0\n",
      "  * nb_iters = 0\n",
      "  * flag = 0\n",
      "  * sol_exacte : -1.5707963267948966\n"
     ]
    }
   ],
   "source": [
    "#using Pkg; Pkg.add(\"LinearAlgebra\"); Pkg.add(\"Markdown\")\n",
    "# using Documenter\n",
    "using LinearAlgebra\n",
    "using Markdown                             # Pour que les docstrings en début des fonctions ne posent\n",
    "                                           # pas de soucis. Ces docstrings sont utiles pour générer \n",
    "                                           # la documentation sous GitHub\n",
    "include(\"Algorithme_De_Newton.jl\")\n",
    "\n",
    "# Affichage les sorties de l'algorithme des Régions de confiance\n",
    "function my_afficher_resultats(algo,nom_fct,point_init,xmin,fxmin,flag,sol_exacte,nbiters)\n",
    "\tprintln(\"-------------------------------------------------------------------------\")\n",
    "\tprintstyled(\"Résultats de : \",algo, \" appliqué à \",nom_fct, \" au point initial \", point_init, \":\\n\",bold=true,color=:blue)\n",
    "\tprintln(\"  * xsol = \",xmin)\n",
    "\tprintln(\"  * f(xsol) = \",fxmin)\n",
    "\tprintln(\"  * nb_iters = \",nbiters)\n",
    "\tprintln(\"  * flag = \",flag)\n",
    "\tprintln(\"  * sol_exacte : \", sol_exacte)\n",
    "end\n",
    "\n",
    "# Fonction f0\n",
    "# -----------\n",
    "f0(x) =  sin(x)\n",
    "# la gradient de la fonction f0\n",
    "grad_f0(x) = cos(x)\n",
    "# la hessienne de la fonction f0\n",
    "hess_f0(x) = -sin(x)\n",
    "sol_exacte = -pi/2\n",
    "options = []\n",
    "\n",
    "x0 = sol_exacte\n",
    "xmin,f_min,flag,nb_iters = Algorithme_De_Newton(f0,grad_f0,hess_f0,x0,options)\n",
    "my_afficher_resultats(\"Newton\",\"f0\",x0,xmin,f_min,flag,sol_exacte,nb_iters)\n",
    "x0 = -pi/2+0.5\n",
    "xmin,f_min,flag,nb_iters = Algorithme_De_Newton(f0,grad_f0,hess_f0,x0,options)\n",
    "my_afficher_resultats(\"Newton\",\"f0\",x0,xmin,f_min,flag,sol_exacte,nb_iters)\n",
    "x0 = pi/2\n",
    "xmin,f_min,flag,nb_iters = Algorithme_De_Newton(f0,grad_f0,hess_f0,x0,options)\n",
    "my_afficher_resultats(\"Newton\",\"f0\",x0,xmin,f_min,flag,sol_exacte,nb_iters)"
   ]
  },
  {
   "cell_type": "markdown",
   "metadata": {},
   "source": [
    "## Interprétation \n",
    "\n",
    "Justifier\n",
    "\n",
    "1. les résultats obtenus pour l'exemple $f_0$ ci-dessus;\n",
    "\n",
    "2. que l’algorithme implémenté converge en une itération pour $f_{1}$;\n",
    "\n",
    "3. que l’algorithme puisse ne pas converger pour $f_{2}$ avec certains points initiaux."
   ]
  },
  {
   "cell_type": "markdown",
   "metadata": {},
   "source": [
    "## Vos réponses?\n"
   ]
  },
  {
   "cell_type": "markdown",
   "metadata": {},
   "source": [
    "# Régions de confiance avec pas de cauchy \n",
    "\n",
    "## Implémentation \n",
    "\n",
    "1. Coder l'algorithme du pas de Cauchy d’un sous-problème de\n",
    "régions de confiance (fichier `Pas_De_Cauchy.jl`). Tester sur les quadratiques proposées en Annexe B.\n",
    "\n",
    "2. Coder l'algorithme de régions de confiance (fichier `Regions_De_Confiance.jl`). Tester sur les problèmes de l’Annexe A."
   ]
  },
  {
   "cell_type": "code",
   "execution_count": 29,
   "metadata": {},
   "outputs": [],
   "source": [
    "# Vos tests"
   ]
  },
  {
   "cell_type": "markdown",
   "metadata": {},
   "source": [
    "## Interprétation \n",
    "\n",
    "1. Quelle relation lie la fonction test $f_1$ et son modèle de Taylor à l’ordre 2 ? Comparer alors les performances de Newton et RC-Pas de Cauchy sur cette fonction.\n",
    "\n",
    "2. Le rayon initial de la région de confiance est un paramètre important dans l’analyse\n",
    "de la performance de l’algorithme. Sur quel(s) autre(s) paramètre(s) peut-on jouer\n",
    "pour essayer d’améliorer cette performance ? Étudier l’influence d’au moins deux de\n",
    "ces paramètres."
   ]
  },
  {
   "cell_type": "markdown",
   "metadata": {},
   "source": [
    "## Vos réponses?\n"
   ]
  },
  {
   "cell_type": "markdown",
   "metadata": {},
   "source": [
    "# Régions de confiance avec gradient conjugué tronqué\n",
    "\n",
    "## Implémentation \n",
    "\n",
    "1. Implémenter l’algorithme du Gradient Conjugué Tronqué, en se basant sur le cours (fichier `Gradient_Conjugue_Tronque.jl`).\n",
    "On validera les résultats sur les fonctions de l’Annexe C.\n",
    "\n",
    "2. Intégrer finalement l’algorithme du Gradient Conjugué Tronqué dans le code de\n",
    "régions de confiance, et appliquer ce code pour résoudre les exemples proposés en\n",
    "Annexe A."
   ]
  },
  {
   "cell_type": "code",
   "execution_count": 30,
   "metadata": {},
   "outputs": [],
   "source": [
    "# Vos tests"
   ]
  },
  {
   "cell_type": "markdown",
   "metadata": {},
   "source": [
    "## Interprétation  \n",
    "\n",
    "1. Comparer la décroissance obtenue avec celle du pas de Cauchy, en imposant la sortie\n",
    "dans l’algorithme 3 au bout d’une itération seulement. Que remarquez vous ?\n",
    "\n",
    "2. Comparer la décroissance obtenue avec celle du pas de Cauchy dans le cas général.\n",
    "\n",
    "3. Quels sont les avantages et inconvénients des deux approches ?"
   ]
  },
  {
   "cell_type": "markdown",
   "metadata": {},
   "source": [
    "## Vos réponses?\n"
   ]
  },
  {
   "cell_type": "markdown",
   "metadata": {},
   "source": [
    "# Lagrangien augmenté\n",
    "\n",
    "## Implémentation\n",
    "1.Choisir des critères d’arrêt pour la convergence de l'algorithme.\n",
    "\n",
    "2.Implémenter l'algorithme du lagrangien augmenté, en utilisant les différentes méthodes\n",
    "qui ont été vues en première partie pour la résolution de la suite de problémes sans\n",
    "contraintes (fichier `Lagrangien_Augmente.jl`)\n",
    " \n",
    "3.Tester les différentes variantes sur les problèmes en Annexe D.\n",
    " "
   ]
  },
  {
   "cell_type": "code",
   "execution_count": 31,
   "metadata": {},
   "outputs": [],
   "source": [
    "# Vos tests"
   ]
  },
  {
   "cell_type": "markdown",
   "metadata": {},
   "source": [
    "## Interprétation\n",
    " 1.Commenter les résultats obtenus, en étudiant notamment les valeurs de $\\lambda_k$ et $\\mu_k$.\n",
    " \n",
    " 2.Étudier l'influence du paramètre $\\tau$ dans la performance de l'algorithme.\n",
    " \n",
    " 3.**Supplémentaire** : \n",
    "      Que proposez-vous comme méthode pour la résolution des problèmes avec\n",
    "      des contraintes à la fois d'égalité et d'inégalité ? Implémenter (si le temps le permet)\n",
    "      ce nouvel algorithme\n"
   ]
  },
  {
   "cell_type": "markdown",
   "metadata": {},
   "source": [
    "## Vos réponses?\n"
   ]
  }
 ],
 "metadata": {
  "interpreter": {
   "hash": "aee8b7b246df8f9039afb4144a1f6fd8d2ca17a180786b69acc140d282b71a49"
  },
  "kernelspec": {
   "display_name": "Julia 1.6.3",
   "language": "julia",
   "name": "julia-1.6"
  },
  "language_info": {
   "file_extension": ".jl",
   "mimetype": "application/julia",
   "name": "julia",
   "version": "1.6.3"
  }
 },
 "nbformat": 4,
 "nbformat_minor": 4
}
